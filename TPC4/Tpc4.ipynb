{
 "cells": [
  {
   "cell_type": "markdown",
   "id": "52912eb0",
   "metadata": {},
   "source": [
    "# TPC 4 - Vending Machine"
   ]
  },
  {
   "cell_type": "code",
   "execution_count": null,
   "id": "f766758a",
   "metadata": {},
   "outputs": [],
   "source": [
    "import ply.lex as lex\n",
    "\n",
    "tokens = {\n",
    "    \"LISTAR\",\n",
    "    \"SELECIONAR\",\n",
    "    \"SAIR\"\n",
    "}"
   ]
  }
 ],
 "metadata": {
  "kernelspec": {
   "display_name": "base",
   "language": "python",
   "name": "python3"
  },
  "language_info": {
   "name": "python",
   "version": "3.13.5"
  }
 },
 "nbformat": 4,
 "nbformat_minor": 5
}
